{
 "cells": [
  {
   "cell_type": "code",
   "execution_count": 60,
   "id": "cab0f052",
   "metadata": {
    "scrolled": true
   },
   "outputs": [],
   "source": [
    "import pandas as pd\n",
    "import numpy as np\n",
    "import matplotlib.pyplot as plt\n",
    "from sklearn.model_selection import RandomizedSearchCV\n",
    "from numba import jit\n",
    "from sklearn.metrics import accuracy_score\n",
    "from sklearn.metrics import mean_absolute_percentage_error\n",
    "from sklearn.metrics import mean_squared_error,r2_score\n",
    "from explainerdashboard import RegressionExplainer, ExplainerDashboard\n",
    "import seaborn as sns"
   ]
  },
  {
   "cell_type": "code",
   "execution_count": 61,
   "id": "7967f558",
   "metadata": {},
   "outputs": [],
   "source": [
    "data = pd.read_excel(\"Final_Data.xlsx\")"
   ]
  },
  {
   "cell_type": "code",
   "execution_count": 62,
   "id": "f793bb98",
   "metadata": {},
   "outputs": [],
   "source": [
    "df = data.copy()"
   ]
  },
  {
   "cell_type": "code",
   "execution_count": 63,
   "id": "4a55c4de",
   "metadata": {},
   "outputs": [
    {
     "data": {
      "text/plain": [
       "(356245, 15)"
      ]
     },
     "execution_count": 63,
     "metadata": {},
     "output_type": "execute_result"
    }
   ],
   "source": [
    "df.shape"
   ]
  },
  {
   "cell_type": "code",
   "execution_count": 64,
   "id": "181767a3",
   "metadata": {},
   "outputs": [],
   "source": [
    "df = df.head(5000)"
   ]
  },
  {
   "cell_type": "code",
   "execution_count": 65,
   "id": "51c85ca3",
   "metadata": {},
   "outputs": [
    {
     "data": {
      "text/plain": [
       "(5000, 15)"
      ]
     },
     "execution_count": 65,
     "metadata": {},
     "output_type": "execute_result"
    }
   ],
   "source": [
    "df.shape"
   ]
  },
  {
   "cell_type": "code",
   "execution_count": 66,
   "id": "3587b200",
   "metadata": {},
   "outputs": [],
   "source": [
    "df.drop([\"model\",\"description\",\"lat\",\"long\",\"posting_date\"],axis=1,inplace = True)"
   ]
  },
  {
   "cell_type": "code",
   "execution_count": 67,
   "id": "62134ec3",
   "metadata": {},
   "outputs": [
    {
     "data": {
      "text/html": [
       "<div>\n",
       "<style scoped>\n",
       "    .dataframe tbody tr th:only-of-type {\n",
       "        vertical-align: middle;\n",
       "    }\n",
       "\n",
       "    .dataframe tbody tr th {\n",
       "        vertical-align: top;\n",
       "    }\n",
       "\n",
       "    .dataframe thead th {\n",
       "        text-align: right;\n",
       "    }\n",
       "</style>\n",
       "<table border=\"1\" class=\"dataframe\">\n",
       "  <thead>\n",
       "    <tr style=\"text-align: right;\">\n",
       "      <th></th>\n",
       "      <th>region</th>\n",
       "      <th>price</th>\n",
       "      <th>year</th>\n",
       "      <th>manufacturer</th>\n",
       "      <th>fuel</th>\n",
       "      <th>odometer</th>\n",
       "      <th>title_status</th>\n",
       "      <th>transmission</th>\n",
       "      <th>type</th>\n",
       "      <th>state</th>\n",
       "    </tr>\n",
       "  </thead>\n",
       "  <tbody>\n",
       "    <tr>\n",
       "      <th>0</th>\n",
       "      <td>auburn</td>\n",
       "      <td>33590</td>\n",
       "      <td>2014.0</td>\n",
       "      <td>gmc</td>\n",
       "      <td>gas</td>\n",
       "      <td>57923.0</td>\n",
       "      <td>clean</td>\n",
       "      <td>other</td>\n",
       "      <td>pickup</td>\n",
       "      <td>al</td>\n",
       "    </tr>\n",
       "    <tr>\n",
       "      <th>1</th>\n",
       "      <td>auburn</td>\n",
       "      <td>22590</td>\n",
       "      <td>2010.0</td>\n",
       "      <td>chevrolet</td>\n",
       "      <td>gas</td>\n",
       "      <td>71229.0</td>\n",
       "      <td>clean</td>\n",
       "      <td>other</td>\n",
       "      <td>pickup</td>\n",
       "      <td>al</td>\n",
       "    </tr>\n",
       "    <tr>\n",
       "      <th>2</th>\n",
       "      <td>auburn</td>\n",
       "      <td>39590</td>\n",
       "      <td>2020.0</td>\n",
       "      <td>chevrolet</td>\n",
       "      <td>gas</td>\n",
       "      <td>19160.0</td>\n",
       "      <td>clean</td>\n",
       "      <td>other</td>\n",
       "      <td>pickup</td>\n",
       "      <td>al</td>\n",
       "    </tr>\n",
       "    <tr>\n",
       "      <th>3</th>\n",
       "      <td>auburn</td>\n",
       "      <td>30990</td>\n",
       "      <td>2017.0</td>\n",
       "      <td>toyota</td>\n",
       "      <td>gas</td>\n",
       "      <td>41124.0</td>\n",
       "      <td>clean</td>\n",
       "      <td>other</td>\n",
       "      <td>pickup</td>\n",
       "      <td>al</td>\n",
       "    </tr>\n",
       "    <tr>\n",
       "      <th>4</th>\n",
       "      <td>auburn</td>\n",
       "      <td>15000</td>\n",
       "      <td>2013.0</td>\n",
       "      <td>ford</td>\n",
       "      <td>gas</td>\n",
       "      <td>128000.0</td>\n",
       "      <td>clean</td>\n",
       "      <td>automatic</td>\n",
       "      <td>truck</td>\n",
       "      <td>al</td>\n",
       "    </tr>\n",
       "  </tbody>\n",
       "</table>\n",
       "</div>"
      ],
      "text/plain": [
       "   region  price    year manufacturer fuel  odometer title_status  \\\n",
       "0  auburn  33590  2014.0          gmc  gas   57923.0        clean   \n",
       "1  auburn  22590  2010.0    chevrolet  gas   71229.0        clean   \n",
       "2  auburn  39590  2020.0    chevrolet  gas   19160.0        clean   \n",
       "3  auburn  30990  2017.0       toyota  gas   41124.0        clean   \n",
       "4  auburn  15000  2013.0         ford  gas  128000.0        clean   \n",
       "\n",
       "  transmission    type state  \n",
       "0        other  pickup    al  \n",
       "1        other  pickup    al  \n",
       "2        other  pickup    al  \n",
       "3        other  pickup    al  \n",
       "4    automatic   truck    al  "
      ]
     },
     "execution_count": 67,
     "metadata": {},
     "output_type": "execute_result"
    }
   ],
   "source": [
    "df.head()"
   ]
  },
  {
   "cell_type": "code",
   "execution_count": 68,
   "id": "629dfdc6",
   "metadata": {},
   "outputs": [
    {
     "data": {
      "text/plain": [
       "array(['gmc', 'chevrolet', 'toyota', 'ford', 'jeep', 'nissan', 'ram',\n",
       "       'mazda', 'cadillac', 'honda', 'dodge', 'lexus', 'jaguar', 'buick',\n",
       "       'chrysler', 'volvo', 'audi', 'infiniti', 'lincoln', 'alfa-romeo',\n",
       "       'subaru', 'acura', 'hyundai', 'mercedes-benz', 'bmw', 'mitsubishi',\n",
       "       'volkswagen', 'porsche', 'kia', 'mini', 'pontiac', 'fiat', 'rover',\n",
       "       'tesla', 'mercury', 'saturn'], dtype=object)"
      ]
     },
     "execution_count": 68,
     "metadata": {},
     "output_type": "execute_result"
    }
   ],
   "source": [
    "df['manufacturer'].unique()"
   ]
  },
  {
   "cell_type": "code",
   "execution_count": 69,
   "id": "8f82dbda",
   "metadata": {},
   "outputs": [
    {
     "data": {
      "text/plain": [
       "array(['gas', 'other', 'diesel', 'hybrid', 'electric'], dtype=object)"
      ]
     },
     "execution_count": 69,
     "metadata": {},
     "output_type": "execute_result"
    }
   ],
   "source": [
    "df['fuel'].unique()"
   ]
  },
  {
   "cell_type": "code",
   "execution_count": 70,
   "id": "bfa1e645",
   "metadata": {},
   "outputs": [
    {
     "data": {
      "text/plain": [
       "array(['clean', 'rebuilt', 'lien', 'salvage', 'missing', 'parts only'],\n",
       "      dtype=object)"
      ]
     },
     "execution_count": 70,
     "metadata": {},
     "output_type": "execute_result"
    }
   ],
   "source": [
    "df['title_status'].unique()"
   ]
  },
  {
   "cell_type": "code",
   "execution_count": 71,
   "id": "5cb10211",
   "metadata": {},
   "outputs": [
    {
     "data": {
      "text/plain": [
       "array(['other', 'automatic', 'manual'], dtype=object)"
      ]
     },
     "execution_count": 71,
     "metadata": {},
     "output_type": "execute_result"
    }
   ],
   "source": [
    "df['transmission'].unique()"
   ]
  },
  {
   "cell_type": "code",
   "execution_count": 72,
   "id": "8fccd60c",
   "metadata": {},
   "outputs": [
    {
     "data": {
      "text/plain": [
       "array(['pickup', 'truck', 'other', 'sedan', 'coupe', 'SUV', 'hatchback',\n",
       "       'mini-van', 'offroad', 'convertible', 'wagon', 'van', 'bus'],\n",
       "      dtype=object)"
      ]
     },
     "execution_count": 72,
     "metadata": {},
     "output_type": "execute_result"
    }
   ],
   "source": [
    "df['type'].unique()"
   ]
  },
  {
   "cell_type": "code",
   "execution_count": 73,
   "id": "c0652d9d",
   "metadata": {},
   "outputs": [
    {
     "data": {
      "text/plain": [
       "array(['al', 'ak'], dtype=object)"
      ]
     },
     "execution_count": 73,
     "metadata": {},
     "output_type": "execute_result"
    }
   ],
   "source": [
    "df['state'].unique()"
   ]
  },
  {
   "cell_type": "code",
   "execution_count": 74,
   "id": "464e188e",
   "metadata": {},
   "outputs": [
    {
     "name": "stdout",
     "output_type": "stream",
     "text": [
      "<class 'pandas.core.frame.DataFrame'>\n",
      "RangeIndex: 5000 entries, 0 to 4999\n",
      "Data columns (total 10 columns):\n",
      " #   Column        Non-Null Count  Dtype  \n",
      "---  ------        --------------  -----  \n",
      " 0   region        5000 non-null   object \n",
      " 1   price         5000 non-null   int64  \n",
      " 2   year          5000 non-null   float64\n",
      " 3   manufacturer  5000 non-null   object \n",
      " 4   fuel          5000 non-null   object \n",
      " 5   odometer      5000 non-null   float64\n",
      " 6   title_status  5000 non-null   object \n",
      " 7   transmission  5000 non-null   object \n",
      " 8   type          5000 non-null   object \n",
      " 9   state         5000 non-null   object \n",
      "dtypes: float64(2), int64(1), object(7)\n",
      "memory usage: 390.8+ KB\n"
     ]
    }
   ],
   "source": [
    "df.info()"
   ]
  },
  {
   "cell_type": "code",
   "execution_count": 75,
   "id": "4bec07d5",
   "metadata": {},
   "outputs": [],
   "source": [
    "from sklearn.preprocessing import LabelEncoder\n",
    "\n",
    "region_encoder = LabelEncoder()\n",
    "df['region'] = region_encoder.fit_transform(df['region'])\n",
    "\n",
    "manufacturer_encoder = LabelEncoder()\n",
    "df[\"manufacturer\"] = manufacturer_encoder.fit_transform(df[\"manufacturer\"])\n",
    "\n",
    "fuel_encoder = LabelEncoder()\n",
    "df[\"fuel\"] = fuel_encoder.fit_transform(df[\"fuel\"])\n",
    "\n",
    "title_encoder = LabelEncoder()\n",
    "df[\"title_status\"] = title_encoder.fit_transform(df[\"title_status\"])\n",
    "\n",
    "transmission_encoder = LabelEncoder()\n",
    "df[\"transmission\"] = transmission_encoder.fit_transform(df[\"transmission\"])\n",
    "\n",
    "type_encoder = LabelEncoder()\n",
    "df[\"type\"] = type_encoder.fit_transform(df[\"type\"])\n",
    "\n",
    "state_encoder = LabelEncoder()\n",
    "df[\"state\"] = state_encoder.fit_transform(df[\"state\"])"
   ]
  },
  {
   "cell_type": "code",
   "execution_count": 76,
   "id": "2010017c",
   "metadata": {},
   "outputs": [
    {
     "name": "stdout",
     "output_type": "stream",
     "text": [
      "<class 'pandas.core.frame.DataFrame'>\n",
      "RangeIndex: 5000 entries, 0 to 4999\n",
      "Data columns (total 10 columns):\n",
      " #   Column        Non-Null Count  Dtype  \n",
      "---  ------        --------------  -----  \n",
      " 0   region        5000 non-null   int32  \n",
      " 1   price         5000 non-null   int64  \n",
      " 2   year          5000 non-null   float64\n",
      " 3   manufacturer  5000 non-null   int32  \n",
      " 4   fuel          5000 non-null   int32  \n",
      " 5   odometer      5000 non-null   float64\n",
      " 6   title_status  5000 non-null   int32  \n",
      " 7   transmission  5000 non-null   int32  \n",
      " 8   type          5000 non-null   int32  \n",
      " 9   state         5000 non-null   int32  \n",
      "dtypes: float64(2), int32(7), int64(1)\n",
      "memory usage: 254.0 KB\n"
     ]
    }
   ],
   "source": [
    "df.info()"
   ]
  },
  {
   "cell_type": "markdown",
   "id": "0acc2b12",
   "metadata": {},
   "source": [
    "**Effect of Covid on car resale price**"
   ]
  },
  {
   "cell_type": "code",
   "execution_count": 80,
   "id": "33d280f2",
   "metadata": {},
   "outputs": [],
   "source": [
    "pre_covid = df.loc[(df['year']>2017.0) & (df['year']<=2019.0)]\n",
    "post_covid = df.loc[df['year']>2019.0]"
   ]
  },
  {
   "cell_type": "code",
   "execution_count": 81,
   "id": "6a9e72fa",
   "metadata": {},
   "outputs": [
    {
     "data": {
      "text/plain": [
       "array([2019., 2018.])"
      ]
     },
     "execution_count": 81,
     "metadata": {},
     "output_type": "execute_result"
    }
   ],
   "source": [
    "pre_covid['year'].unique()"
   ]
  },
  {
   "cell_type": "code",
   "execution_count": 82,
   "id": "24c820b9",
   "metadata": {},
   "outputs": [
    {
     "data": {
      "text/plain": [
       "array([2020., 2021.])"
      ]
     },
     "execution_count": 82,
     "metadata": {},
     "output_type": "execute_result"
    }
   ],
   "source": [
    "post_covid['year'].unique()"
   ]
  },
  {
   "cell_type": "code",
   "execution_count": 83,
   "id": "477eae1b",
   "metadata": {},
   "outputs": [
    {
     "data": {
      "text/plain": [
       "29416.248798076922"
      ]
     },
     "execution_count": 83,
     "metadata": {},
     "output_type": "execute_result"
    }
   ],
   "source": [
    "pre_covid['price'].mean()"
   ]
  },
  {
   "cell_type": "code",
   "execution_count": 84,
   "id": "676a4b0b",
   "metadata": {},
   "outputs": [
    {
     "data": {
      "text/plain": [
       "34842.26345609065"
      ]
     },
     "execution_count": 84,
     "metadata": {},
     "output_type": "execute_result"
    }
   ],
   "source": [
    "post_covid['price'].mean()"
   ]
  },
  {
   "cell_type": "markdown",
   "id": "6de4bdc5",
   "metadata": {},
   "source": [
    "Comparing the average car resale price for two years before and after COVID, it can be clearly seen that it is significantly high after COVID"
   ]
  },
  {
   "cell_type": "markdown",
   "id": "9d82cf1a",
   "metadata": {},
   "source": [
    "**Keeping data of the only the years 2010 to 2021**"
   ]
  },
  {
   "cell_type": "code",
   "execution_count": 85,
   "id": "1a5c3b4e",
   "metadata": {},
   "outputs": [],
   "source": [
    "df.drop(df.index[df['year']<2010.0],inplace = True)\n",
    "df.drop(df.index[df['year']>=2021.0],inplace = True)"
   ]
  },
  {
   "cell_type": "code",
   "execution_count": 86,
   "id": "0ccd6d20",
   "metadata": {},
   "outputs": [
    {
     "data": {
      "text/plain": [
       "<AxesSubplot:xlabel='year', ylabel='price'>"
      ]
     },
     "execution_count": 86,
     "metadata": {},
     "output_type": "execute_result"
    },
    {
     "data": {
      "image/png": "[encoded data removed]",
      "text/plain": [
       "<Figure size 432x288 with 1 Axes>"
      ]
     },
     "metadata": {
      "needs_background": "light"
     },
     "output_type": "display_data"
    }
   ],
   "source": [
    "sns.lineplot(data = df, x = 'year', y='price')"
   ]
  },
  {
   "cell_type": "code",
   "execution_count": 87,
   "id": "3d7bc995",
   "metadata": {},
   "outputs": [],
   "source": [
    "X = df.drop(columns = ['price','title_status'])\n",
    "y = df['price']"
   ]
  },
  {
   "cell_type": "code",
   "execution_count": 88,
   "id": "5ab4cf40",
   "metadata": {},
   "outputs": [],
   "source": [
    "from sklearn.model_selection import train_test_split\n",
    "X_train, X_test, y_train, y_test = train_test_split(X, y, test_size=0.30, random_state = 42)"
   ]
  },
  {
   "cell_type": "code",
   "execution_count": 89,
   "id": "1c9b0da0",
   "metadata": {},
   "outputs": [],
   "source": [
    "from sklearn.preprocessing import StandardScaler\n",
    "sc = StandardScaler()\n",
    "X_train = sc.fit_transform(X_train)\n",
    "X_test = sc.transform(X_test)"
   ]
  },
  {
   "cell_type": "code",
   "execution_count": 90,
   "id": "3d6d5fc8",
   "metadata": {},
   "outputs": [],
   "source": [
    "from sklearn.ensemble import RandomForestRegressor\n",
    "model = RandomForestRegressor(n_estimators= 600,max_depth= 80)\n",
    "model.fit(X_train, y_train.values.ravel())\n",
    "y_pred = model.predict(X_test)"
   ]
  },
  {
   "cell_type": "code",
   "execution_count": 91,
   "id": "50a2e796",
   "metadata": {},
   "outputs": [
    {
     "data": {
      "text/plain": [
       "0.21097800108109246"
      ]
     },
     "execution_count": 91,
     "metadata": {},
     "output_type": "execute_result"
    }
   ],
   "source": [
    "mean_absolute_percentage_error(y_test, y_pred)"
   ]
  },
  {
   "cell_type": "code",
   "execution_count": 92,
   "id": "8b27c78c",
   "metadata": {},
   "outputs": [
    {
     "data": {
      "text/plain": [
       "5844.812026866556"
      ]
     },
     "execution_count": 92,
     "metadata": {},
     "output_type": "execute_result"
    }
   ],
   "source": [
    "mean_squared_error(y_test, y_pred, squared=False)"
   ]
  },
  {
   "cell_type": "code",
   "execution_count": 93,
   "id": "47897c0a",
   "metadata": {},
   "outputs": [
    {
     "data": {
      "text/plain": [
       "0.701787162969947"
      ]
     },
     "execution_count": 93,
     "metadata": {},
     "output_type": "execute_result"
    }
   ],
   "source": [
    "r2_score(y_test, y_pred)"
   ]
  }
 ],
 "metadata": {
  "kernelspec": {
   "display_name": "Python 3",
   "language": "python",
   "name": "python3"
  },
  "language_info": {
   "codemirror_mode": {
    "name": "ipython",
    "version": 3
   },
   "file_extension": ".py",
   "mimetype": "text/x-python",
   "name": "python",
   "nbconvert_exporter": "python",
   "pygments_lexer": "ipython3",
   "version": "3.8.8"
  }
 },
 "nbformat": 4,
 "nbformat_minor": 5
}
