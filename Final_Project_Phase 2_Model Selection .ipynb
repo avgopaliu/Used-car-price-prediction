{
 "cells": [
  {
   "cell_type": "code",
   "execution_count": 2,
   "id": "cab0f052",
   "metadata": {},
   "outputs": [],
   "source": [
    "import pandas as pd\n",
    "import numpy as np\n",
    "import matplotlib.pyplot as plt\n",
    "from sklearn.model_selection import RandomizedSearchCV\n",
    "from numba import jit\n",
    "from sklearn.metrics import accuracy_score\n",
    "from sklearn.metrics import mean_absolute_percentage_error"
   ]
  },
  {
   "cell_type": "code",
   "execution_count": 3,
   "id": "7967f558",
   "metadata": {},
   "outputs": [],
   "source": [
    "data = pd.read_excel(\"Final_Data.xlsx\")"
   ]
  },
  {
   "cell_type": "code",
   "execution_count": 4,
   "id": "f793bb98",
   "metadata": {},
   "outputs": [],
   "source": [
    "df = data.copy()"
   ]
  },
  {
   "cell_type": "code",
   "execution_count": 5,
   "id": "4a55c4de",
   "metadata": {},
   "outputs": [
    {
     "data": {
      "text/plain": [
       "(356245, 15)"
      ]
     },
     "execution_count": 5,
     "metadata": {},
     "output_type": "execute_result"
    }
   ],
   "source": [
    "df.shape"
   ]
  },
  {
   "cell_type": "code",
   "execution_count": 6,
   "id": "3587b200",
   "metadata": {},
   "outputs": [],
   "source": [
    "df.drop([\"model\",\"description\",\"lat\",\"long\",\"posting_date\"],axis=1,inplace = True)"
   ]
  },
  {
   "cell_type": "code",
   "execution_count": 7,
   "id": "62134ec3",
   "metadata": {},
   "outputs": [
    {
     "data": {
      "text/html": [
       "<div>\n",
       "<style scoped>\n",
       "    .dataframe tbody tr th:only-of-type {\n",
       "        vertical-align: middle;\n",
       "    }\n",
       "\n",
       "    .dataframe tbody tr th {\n",
       "        vertical-align: top;\n",
       "    }\n",
       "\n",
       "    .dataframe thead th {\n",
       "        text-align: right;\n",
       "    }\n",
       "</style>\n",
       "<table border=\"1\" class=\"dataframe\">\n",
       "  <thead>\n",
       "    <tr style=\"text-align: right;\">\n",
       "      <th></th>\n",
       "      <th>region</th>\n",
       "      <th>price</th>\n",
       "      <th>year</th>\n",
       "      <th>manufacturer</th>\n",
       "      <th>fuel</th>\n",
       "      <th>odometer</th>\n",
       "      <th>title_status</th>\n",
       "      <th>transmission</th>\n",
       "      <th>type</th>\n",
       "      <th>state</th>\n",
       "    </tr>\n",
       "  </thead>\n",
       "  <tbody>\n",
       "    <tr>\n",
       "      <th>0</th>\n",
       "      <td>auburn</td>\n",
       "      <td>33590</td>\n",
       "      <td>2014.0</td>\n",
       "      <td>gmc</td>\n",
       "      <td>gas</td>\n",
       "      <td>57923.0</td>\n",
       "      <td>clean</td>\n",
       "      <td>other</td>\n",
       "      <td>pickup</td>\n",
       "      <td>al</td>\n",
       "    </tr>\n",
       "    <tr>\n",
       "      <th>1</th>\n",
       "      <td>auburn</td>\n",
       "      <td>22590</td>\n",
       "      <td>2010.0</td>\n",
       "      <td>chevrolet</td>\n",
       "      <td>gas</td>\n",
       "      <td>71229.0</td>\n",
       "      <td>clean</td>\n",
       "      <td>other</td>\n",
       "      <td>pickup</td>\n",
       "      <td>al</td>\n",
       "    </tr>\n",
       "    <tr>\n",
       "      <th>2</th>\n",
       "      <td>auburn</td>\n",
       "      <td>39590</td>\n",
       "      <td>2020.0</td>\n",
       "      <td>chevrolet</td>\n",
       "      <td>gas</td>\n",
       "      <td>19160.0</td>\n",
       "      <td>clean</td>\n",
       "      <td>other</td>\n",
       "      <td>pickup</td>\n",
       "      <td>al</td>\n",
       "    </tr>\n",
       "    <tr>\n",
       "      <th>3</th>\n",
       "      <td>auburn</td>\n",
       "      <td>30990</td>\n",
       "      <td>2017.0</td>\n",
       "      <td>toyota</td>\n",
       "      <td>gas</td>\n",
       "      <td>41124.0</td>\n",
       "      <td>clean</td>\n",
       "      <td>other</td>\n",
       "      <td>pickup</td>\n",
       "      <td>al</td>\n",
       "    </tr>\n",
       "    <tr>\n",
       "      <th>4</th>\n",
       "      <td>auburn</td>\n",
       "      <td>15000</td>\n",
       "      <td>2013.0</td>\n",
       "      <td>ford</td>\n",
       "      <td>gas</td>\n",
       "      <td>128000.0</td>\n",
       "      <td>clean</td>\n",
       "      <td>automatic</td>\n",
       "      <td>truck</td>\n",
       "      <td>al</td>\n",
       "    </tr>\n",
       "  </tbody>\n",
       "</table>\n",
       "</div>"
      ],
      "text/plain": [
       "   region  price    year manufacturer fuel  odometer title_status  \\\n",
       "0  auburn  33590  2014.0          gmc  gas   57923.0        clean   \n",
       "1  auburn  22590  2010.0    chevrolet  gas   71229.0        clean   \n",
       "2  auburn  39590  2020.0    chevrolet  gas   19160.0        clean   \n",
       "3  auburn  30990  2017.0       toyota  gas   41124.0        clean   \n",
       "4  auburn  15000  2013.0         ford  gas  128000.0        clean   \n",
       "\n",
       "  transmission    type state  \n",
       "0        other  pickup    al  \n",
       "1        other  pickup    al  \n",
       "2        other  pickup    al  \n",
       "3        other  pickup    al  \n",
       "4    automatic   truck    al  "
      ]
     },
     "execution_count": 7,
     "metadata": {},
     "output_type": "execute_result"
    }
   ],
   "source": [
    "df.head()"
   ]
  },
  {
   "cell_type": "code",
   "execution_count": 8,
   "id": "464e188e",
   "metadata": {},
   "outputs": [
    {
     "name": "stdout",
     "output_type": "stream",
     "text": [
      "<class 'pandas.core.frame.DataFrame'>\n",
      "RangeIndex: 356245 entries, 0 to 356244\n",
      "Data columns (total 10 columns):\n",
      " #   Column        Non-Null Count   Dtype  \n",
      "---  ------        --------------   -----  \n",
      " 0   region        356245 non-null  object \n",
      " 1   price         356245 non-null  int64  \n",
      " 2   year          356245 non-null  float64\n",
      " 3   manufacturer  356245 non-null  object \n",
      " 4   fuel          356245 non-null  object \n",
      " 5   odometer      356245 non-null  float64\n",
      " 6   title_status  356245 non-null  object \n",
      " 7   transmission  356245 non-null  object \n",
      " 8   type          356245 non-null  object \n",
      " 9   state         356245 non-null  object \n",
      "dtypes: float64(2), int64(1), object(7)\n",
      "memory usage: 27.2+ MB\n"
     ]
    }
   ],
   "source": [
    "df.info()"
   ]
  },
  {
   "cell_type": "code",
   "execution_count": 9,
   "id": "4bec07d5",
   "metadata": {},
   "outputs": [],
   "source": [
    "from sklearn.preprocessing import LabelEncoder\n",
    "\n",
    "region_encoder = LabelEncoder()\n",
    "df['region'] = region_encoder.fit_transform(df['region'])\n",
    "\n",
    "manufacturer_encoder = LabelEncoder()\n",
    "df[\"manufacturer\"] = manufacturer_encoder.fit_transform(df[\"manufacturer\"])\n",
    "\n",
    "fuel_encoder = LabelEncoder()\n",
    "df[\"fuel\"] = fuel_encoder.fit_transform(df[\"fuel\"])\n",
    "\n",
    "title_encoder = LabelEncoder()\n",
    "df[\"title_status\"] = title_encoder.fit_transform(df[\"title_status\"])\n",
    "\n",
    "transmission_encoder = LabelEncoder()\n",
    "df[\"transmission\"] = transmission_encoder.fit_transform(df[\"transmission\"])\n",
    "\n",
    "type_encoder = LabelEncoder()\n",
    "df[\"type\"] = type_encoder.fit_transform(df[\"type\"])\n",
    "\n",
    "state_encoder = LabelEncoder()\n",
    "df[\"state\"] = state_encoder.fit_transform(df[\"state\"])"
   ]
  },
  {
   "cell_type": "code",
   "execution_count": 10,
   "id": "2010017c",
   "metadata": {},
   "outputs": [
    {
     "name": "stdout",
     "output_type": "stream",
     "text": [
      "<class 'pandas.core.frame.DataFrame'>\n",
      "RangeIndex: 356245 entries, 0 to 356244\n",
      "Data columns (total 10 columns):\n",
      " #   Column        Non-Null Count   Dtype  \n",
      "---  ------        --------------   -----  \n",
      " 0   region        356245 non-null  int32  \n",
      " 1   price         356245 non-null  int64  \n",
      " 2   year          356245 non-null  float64\n",
      " 3   manufacturer  356245 non-null  int32  \n",
      " 4   fuel          356245 non-null  int32  \n",
      " 5   odometer      356245 non-null  float64\n",
      " 6   title_status  356245 non-null  int32  \n",
      " 7   transmission  356245 non-null  int32  \n",
      " 8   type          356245 non-null  int32  \n",
      " 9   state         356245 non-null  int32  \n",
      "dtypes: float64(2), int32(7), int64(1)\n",
      "memory usage: 17.7 MB\n"
     ]
    }
   ],
   "source": [
    "df.info()"
   ]
  },
  {
   "cell_type": "code",
   "execution_count": 11,
   "id": "3d7bc995",
   "metadata": {},
   "outputs": [],
   "source": [
    "X = df.drop(columns = ['price'])\n",
    "y = df['price']"
   ]
  },
  {
   "cell_type": "code",
   "execution_count": 12,
   "id": "5ab4cf40",
   "metadata": {},
   "outputs": [],
   "source": [
    "from sklearn.model_selection import train_test_split\n",
    "X_train, X_test, y_train, y_test = train_test_split(X, y, test_size=0.30, random_state = 42)"
   ]
  },
  {
   "cell_type": "code",
   "execution_count": 13,
   "id": "1c9b0da0",
   "metadata": {},
   "outputs": [],
   "source": [
    "from sklearn.preprocessing import StandardScaler\n",
    "sc = StandardScaler()\n",
    "X_train = sc.fit_transform(X_train)\n",
    "X_test = sc.transform(X_test)"
   ]
  },
  {
   "cell_type": "code",
   "execution_count": 14,
   "id": "35de3c44",
   "metadata": {},
   "outputs": [],
   "source": [
    "from sklearn import linear_model\n",
    "regr = linear_model.LinearRegression()\n",
    "regr.fit(X_train, y_train)\n",
    "y_pred = regr.predict(X_test)"
   ]
  },
  {
   "cell_type": "code",
   "execution_count": 15,
   "id": "75a4cbda",
   "metadata": {},
   "outputs": [
    {
     "name": "stdout",
     "output_type": "stream",
     "text": [
      "The r2 is:  0.4098971484028765\n",
      "The rmse is:  9556.570116556226\n"
     ]
    }
   ],
   "source": [
    "from sklearn.metrics import mean_squared_error, r2_score\n",
    "\n",
    "r2_lin = r2_score(y_test, y_pred)\n",
    "rmse_lin = mean_squared_error(y_test, y_pred, squared=False)\n",
    "\n",
    "print('The r2 is: ', r2_lin)\n",
    "print('The rmse is: ', rmse_lin)\n"
   ]
  },
  {
   "cell_type": "code",
   "execution_count": 17,
   "id": "3d6d5fc8",
   "metadata": {},
   "outputs": [],
   "source": [
    "from sklearn.ensemble import RandomForestRegressor\n",
    "model = RandomForestRegressor(n_jobs=-1)\n",
    "model.fit(X_train, y_train)\n",
    "y_pred_rf = model.predict(X_test)"
   ]
  },
  {
   "cell_type": "code",
   "execution_count": 16,
   "id": "50a2e796",
   "metadata": {},
   "outputs": [
    {
     "name": "stdout",
     "output_type": "stream",
     "text": [
      "The r2 is:  0.8535796871401043\n",
      "The rmse is:  4760.349717075387\n"
     ]
    }
   ],
   "source": [
    "r2_rf = r2_score(y_test, y_pred_rf)\n",
    "rmse_rf = mean_squared_error(y_test, y_pred_rf, squared=False)\n",
    "\n",
    "print('The r2 is: ', r2_rf)\n",
    "print('The rmse is: ', rmse_rf)"
   ]
  },
  {
   "cell_type": "code",
   "execution_count": 17,
   "id": "80623331",
   "metadata": {},
   "outputs": [],
   "source": [
    "from xgboost import XGBRegressor as xgb\n",
    "clf = xgb(n_jobs=-1)\n",
    "clf.fit(X_train, y_train)\n",
    "y_pred_xgb = clf.predict(X_test)"
   ]
  },
  {
   "cell_type": "code",
   "execution_count": 18,
   "id": "11e9ac32",
   "metadata": {},
   "outputs": [
    {
     "name": "stdout",
     "output_type": "stream",
     "text": [
      "The r2 is:  0.7766197259016908\n",
      "The rmse is:  5879.773596227718\n"
     ]
    }
   ],
   "source": [
    "r2_xgb = r2_score(y_test, y_pred_xgb)\n",
    "rmse_xgb = mean_squared_error(y_test, y_pred_xgb, squared=False)\n",
    "\n",
    "print('The r2 is: ', r2_xgb)\n",
    "print('The rmse is: ', rmse_xgb)"
   ]
  },
  {
   "cell_type": "code",
   "execution_count": 19,
   "id": "aea9ffd9",
   "metadata": {},
   "outputs": [],
   "source": [
    "from lightgbm import LGBMRegressor\n",
    "model2 = LGBMRegressor(n_jobs=-1)\n",
    "model2.fit(X_train, y_train)\n",
    "y_pred_lgm = model2.predict(X_test)"
   ]
  },
  {
   "cell_type": "code",
   "execution_count": 20,
   "id": "0862d7ea",
   "metadata": {},
   "outputs": [
    {
     "name": "stdout",
     "output_type": "stream",
     "text": [
      "The r2 is:  0.746814158395652\n",
      "The rmse is:  6259.763159695008\n"
     ]
    }
   ],
   "source": [
    "r2_gbm = r2_score(y_test, y_pred_lgm)\n",
    "rmse_gbm = mean_squared_error(y_test, y_pred_lgm, squared=False)\n",
    "\n",
    "print('The r2 is: ', r2_gbm)\n",
    "print('The rmse is: ', rmse_gbm)"
   ]
  },
  {
   "cell_type": "code",
   "execution_count": 21,
   "id": "ea422bb5",
   "metadata": {},
   "outputs": [],
   "source": [
    "X_train = pd.DataFrame(X_train)"
   ]
  },
  {
   "cell_type": "code",
   "execution_count": 22,
   "id": "c8bc024b",
   "metadata": {},
   "outputs": [
    {
     "data": {
      "text/html": [
       "<div>\n",
       "<style scoped>\n",
       "    .dataframe tbody tr th:only-of-type {\n",
       "        vertical-align: middle;\n",
       "    }\n",
       "\n",
       "    .dataframe tbody tr th {\n",
       "        vertical-align: top;\n",
       "    }\n",
       "\n",
       "    .dataframe thead th {\n",
       "        text-align: right;\n",
       "    }\n",
       "</style>\n",
       "<table border=\"1\" class=\"dataframe\">\n",
       "  <thead>\n",
       "    <tr style=\"text-align: right;\">\n",
       "      <th></th>\n",
       "      <th>importance</th>\n",
       "    </tr>\n",
       "    <tr>\n",
       "      <th>feature</th>\n",
       "      <th></th>\n",
       "    </tr>\n",
       "  </thead>\n",
       "  <tbody>\n",
       "    <tr>\n",
       "      <th>year</th>\n",
       "      <td>0.457</td>\n",
       "    </tr>\n",
       "    <tr>\n",
       "      <th>odometer</th>\n",
       "      <td>0.185</td>\n",
       "    </tr>\n",
       "    <tr>\n",
       "      <th>manufacturer</th>\n",
       "      <td>0.091</td>\n",
       "    </tr>\n",
       "    <tr>\n",
       "      <th>type</th>\n",
       "      <td>0.089</td>\n",
       "    </tr>\n",
       "    <tr>\n",
       "      <th>fuel</th>\n",
       "      <td>0.066</td>\n",
       "    </tr>\n",
       "    <tr>\n",
       "      <th>region</th>\n",
       "      <td>0.044</td>\n",
       "    </tr>\n",
       "    <tr>\n",
       "      <th>state</th>\n",
       "      <td>0.041</td>\n",
       "    </tr>\n",
       "    <tr>\n",
       "      <th>transmission</th>\n",
       "      <td>0.018</td>\n",
       "    </tr>\n",
       "    <tr>\n",
       "      <th>title_status</th>\n",
       "      <td>0.009</td>\n",
       "    </tr>\n",
       "  </tbody>\n",
       "</table>\n",
       "</div>"
      ],
      "text/plain": [
       "              importance\n",
       "feature                 \n",
       "year               0.457\n",
       "odometer           0.185\n",
       "manufacturer       0.091\n",
       "type               0.089\n",
       "fuel               0.066\n",
       "region             0.044\n",
       "state              0.041\n",
       "transmission       0.018\n",
       "title_status       0.009"
      ]
     },
     "execution_count": 22,
     "metadata": {},
     "output_type": "execute_result"
    }
   ],
   "source": [
    "importances = pd.DataFrame({'feature':X.columns,'importance':np.round(model.feature_importances_,3)})\n",
    "importances = importances.sort_values('importance',ascending=False).set_index('feature')\n",
    "importances.head(15)"
   ]
  },
  {
   "cell_type": "code",
   "execution_count": 23,
   "id": "b03abf26",
   "metadata": {
    "scrolled": true
   },
   "outputs": [
    {
     "data": {
      "text/plain": [
       "<AxesSubplot:xlabel='feature'>"
      ]
     },
     "execution_count": 23,
     "metadata": {},
     "output_type": "execute_result"
    },
    {
     "data": {
      "image/png": "[encoded data removed]",
      "text/plain": [
       "<Figure size 432x288 with 1 Axes>"
      ]
     },
     "metadata": {
      "needs_background": "light"
     },
     "output_type": "display_data"
    }
   ],
   "source": [
    "importances.plot.bar()"
   ]
  },
  {
   "cell_type": "code",
   "execution_count": 29,
   "id": "f34d07de",
   "metadata": {},
   "outputs": [],
   "source": [
    "from tabulate import tabulate"
   ]
  },
  {
   "cell_type": "code",
   "execution_count": 25,
   "id": "f7bee48b",
   "metadata": {},
   "outputs": [
    {
     "name": "stdout",
     "output_type": "stream",
     "text": [
      "                     Model,R2 Score     RMSE\n",
      "-----------------  ----------------  -------\n",
      "Linear Regression          0.409897  9556.57\n",
      "Random Forest              0.85358   4760.35\n",
      "XGBoost                    0.77662   5879.77\n",
      "LightGBM                   0.746814  6259.76\n"
     ]
    }
   ],
   "source": [
    "data = [[\"Linear Regression\", r2_lin, rmse_lin], \n",
    "        [\"Random Forest\", r2_rf, rmse_rf], \n",
    "        [\"XGBoost\", r2_xgb, rmse_xgb], \n",
    "        [\"LightGBM\", r2_gbm, rmse_gbm]]\n",
    "col_names = [\"Model,\"\"R2 Score\", \"RMSE\"]\n",
    "print(tabulate(data, headers=col_names))"
   ]
  },
  {
   "cell_type": "code",
   "execution_count": 26,
   "id": "051b15f7",
   "metadata": {},
   "outputs": [
    {
     "data": {
      "text/plain": [
       "array([ -159.90281851,  3190.65425575,  -562.92266378, -2050.87999688,\n",
       "       -5419.04754889, -1087.5872503 ,  1871.77125387,   129.15265373,\n",
       "         106.80012253])"
      ]
     },
     "execution_count": 26,
     "metadata": {},
     "output_type": "execute_result"
    }
   ],
   "source": [
    "regr.coef_"
   ]
  },
  {
   "cell_type": "code",
   "execution_count": 27,
   "id": "ee3cf616",
   "metadata": {},
   "outputs": [],
   "source": [
    "X= df['year'].array\n",
    "Y = df['price'].array"
   ]
  },
  {
   "cell_type": "code",
   "execution_count": 28,
   "id": "de22db1a",
   "metadata": {},
   "outputs": [
    {
     "data": {
      "text/plain": [
       "(0.4240995144995042, 0.0)"
      ]
     },
     "execution_count": 28,
     "metadata": {},
     "output_type": "execute_result"
    }
   ],
   "source": [
    "from scipy import stats\n",
    "result = stats.pearsonr(df['year'],df['price'])\n",
    "result"
   ]
  },
  {
   "cell_type": "code",
   "execution_count": 29,
   "id": "01528661",
   "metadata": {},
   "outputs": [],
   "source": [
    "#Since P value is very less, null hypothesis can be rejected."
   ]
  },
  {
   "cell_type": "code",
   "execution_count": 30,
   "id": "860fc4ac",
   "metadata": {},
   "outputs": [],
   "source": [
    "import statsmodels.api as sm\n",
    "import numpy as np\n",
    "\n",
    "X = sm.add_constant(X)\n",
    "\n",
    "model = sm.OLS(y,X)\n",
    "results = model.fit()"
   ]
  },
  {
   "cell_type": "code",
   "execution_count": 31,
   "id": "f429e4b3",
   "metadata": {},
   "outputs": [
    {
     "data": {
      "text/plain": [
       "const   -1.215534e+06\n",
       "x1       6.133708e+02\n",
       "dtype: float64"
      ]
     },
     "execution_count": 31,
     "metadata": {},
     "output_type": "execute_result"
    }
   ],
   "source": [
    "results.params"
   ]
  },
  {
   "cell_type": "code",
   "execution_count": 32,
   "id": "b92dade9",
   "metadata": {},
   "outputs": [
    {
     "data": {
      "text/plain": [
       "const    4413.835749\n",
       "x1          2.194452\n",
       "dtype: float64"
      ]
     },
     "execution_count": 32,
     "metadata": {},
     "output_type": "execute_result"
    }
   ],
   "source": [
    "results.bse"
   ]
  },
  {
   "cell_type": "code",
   "execution_count": 33,
   "id": "ed94520d",
   "metadata": {},
   "outputs": [
    {
     "data": {
      "text/html": [
       "<table class=\"simpletable\">\n",
       "<caption>OLS Regression Results</caption>\n",
       "<tr>\n",
       "  <th>Dep. Variable:</th>          <td>price</td>      <th>  R-squared:         </th>  <td>   0.180</td>  \n",
       "</tr>\n",
       "<tr>\n",
       "  <th>Model:</th>                   <td>OLS</td>       <th>  Adj. R-squared:    </th>  <td>   0.180</td>  \n",
       "</tr>\n",
       "<tr>\n",
       "  <th>Method:</th>             <td>Least Squares</td>  <th>  F-statistic:       </th>  <td>7.813e+04</td> \n",
       "</tr>\n",
       "<tr>\n",
       "  <th>Date:</th>             <td>Wed, 27 Apr 2022</td> <th>  Prob (F-statistic):</th>   <td>  0.00</td>   \n",
       "</tr>\n",
       "<tr>\n",
       "  <th>Time:</th>                 <td>11:18:31</td>     <th>  Log-Likelihood:    </th> <td>-3.8283e+06</td>\n",
       "</tr>\n",
       "<tr>\n",
       "  <th>No. Observations:</th>      <td>356245</td>      <th>  AIC:               </th>  <td>7.657e+06</td> \n",
       "</tr>\n",
       "<tr>\n",
       "  <th>Df Residuals:</th>          <td>356243</td>      <th>  BIC:               </th>  <td>7.657e+06</td> \n",
       "</tr>\n",
       "<tr>\n",
       "  <th>Df Model:</th>              <td>     1</td>      <th>                     </th>      <td> </td>     \n",
       "</tr>\n",
       "<tr>\n",
       "  <th>Covariance Type:</th>      <td>nonrobust</td>    <th>                     </th>      <td> </td>     \n",
       "</tr>\n",
       "</table>\n",
       "<table class=\"simpletable\">\n",
       "<tr>\n",
       "    <td></td>       <th>coef</th>     <th>std err</th>      <th>t</th>      <th>P>|t|</th>  <th>[0.025</th>    <th>0.975]</th>  \n",
       "</tr>\n",
       "<tr>\n",
       "  <th>const</th> <td>-1.216e+06</td> <td> 4413.836</td> <td> -275.392</td> <td> 0.000</td> <td>-1.22e+06</td> <td>-1.21e+06</td>\n",
       "</tr>\n",
       "<tr>\n",
       "  <th>x1</th>    <td>  613.3708</td> <td>    2.194</td> <td>  279.510</td> <td> 0.000</td> <td>  609.070</td> <td>  617.672</td>\n",
       "</tr>\n",
       "</table>\n",
       "<table class=\"simpletable\">\n",
       "<tr>\n",
       "  <th>Omnibus:</th>       <td>55789.412</td> <th>  Durbin-Watson:     </th> <td>   1.533</td> \n",
       "</tr>\n",
       "<tr>\n",
       "  <th>Prob(Omnibus):</th>  <td> 0.000</td>   <th>  Jarque-Bera (JB):  </th> <td>93957.475</td>\n",
       "</tr>\n",
       "<tr>\n",
       "  <th>Skew:</th>           <td> 1.046</td>   <th>  Prob(JB):          </th> <td>    0.00</td> \n",
       "</tr>\n",
       "<tr>\n",
       "  <th>Kurtosis:</th>       <td> 4.398</td>   <th>  Cond. No.          </th> <td>4.71e+05</td> \n",
       "</tr>\n",
       "</table><br/><br/>Notes:<br/>[1] Standard Errors assume that the covariance matrix of the errors is correctly specified.<br/>[2] The condition number is large, 4.71e+05. This might indicate that there are<br/>strong multicollinearity or other numerical problems."
      ],
      "text/plain": [
       "<class 'statsmodels.iolib.summary.Summary'>\n",
       "\"\"\"\n",
       "                            OLS Regression Results                            \n",
       "==============================================================================\n",
       "Dep. Variable:                  price   R-squared:                       0.180\n",
       "Model:                            OLS   Adj. R-squared:                  0.180\n",
       "Method:                 Least Squares   F-statistic:                 7.813e+04\n",
       "Date:                Wed, 27 Apr 2022   Prob (F-statistic):               0.00\n",
       "Time:                        11:18:31   Log-Likelihood:            -3.8283e+06\n",
       "No. Observations:              356245   AIC:                         7.657e+06\n",
       "Df Residuals:                  356243   BIC:                         7.657e+06\n",
       "Df Model:                           1                                         \n",
       "Covariance Type:            nonrobust                                         \n",
       "==============================================================================\n",
       "                 coef    std err          t      P>|t|      [0.025      0.975]\n",
       "------------------------------------------------------------------------------\n",
       "const      -1.216e+06   4413.836   -275.392      0.000   -1.22e+06   -1.21e+06\n",
       "x1           613.3708      2.194    279.510      0.000     609.070     617.672\n",
       "==============================================================================\n",
       "Omnibus:                    55789.412   Durbin-Watson:                   1.533\n",
       "Prob(Omnibus):                  0.000   Jarque-Bera (JB):            93957.475\n",
       "Skew:                           1.046   Prob(JB):                         0.00\n",
       "Kurtosis:                       4.398   Cond. No.                     4.71e+05\n",
       "==============================================================================\n",
       "\n",
       "Notes:\n",
       "[1] Standard Errors assume that the covariance matrix of the errors is correctly specified.\n",
       "[2] The condition number is large, 4.71e+05. This might indicate that there are\n",
       "strong multicollinearity or other numerical problems.\n",
       "\"\"\""
      ]
     },
     "execution_count": 33,
     "metadata": {},
     "output_type": "execute_result"
    }
   ],
   "source": [
    "results.summary()"
   ]
  },
  {
   "cell_type": "code",
   "execution_count": 18,
   "id": "07acfabe",
   "metadata": {},
   "outputs": [],
   "source": [
    "model = RandomForestRegressor(n_jobs=-1)"
   ]
  },
  {
   "cell_type": "code",
   "execution_count": 19,
   "id": "efbacd8e",
   "metadata": {},
   "outputs": [],
   "source": [
    "params =      {'max_depth': [20, 40, 60, 70, 80, 90, 100, None],\n",
    "               'n_estimators': [100,200, 400, 600, 800, 1000]}"
   ]
  },
  {
   "cell_type": "code",
   "execution_count": 20,
   "id": "ac21a0b2",
   "metadata": {},
   "outputs": [],
   "source": [
    "random_forest_random_search = RandomizedSearchCV(model, params, scoring = 'neg_mean_squared_error', cv = 2, verbose=2, random_state=42, n_jobs = -1)"
   ]
  },
  {
   "cell_type": "code",
   "execution_count": 51,
   "id": "9f4171b4",
   "metadata": {},
   "outputs": [
    {
     "name": "stdout",
     "output_type": "stream",
     "text": [
      "Fitting 2 folds for each of 10 candidates, totalling 20 fits\n"
     ]
    },
    {
     "data": {
      "text/plain": [
       "RandomizedSearchCV(cv=2, estimator=RandomForestRegressor(n_jobs=-1), n_jobs=-1,\n",
       "                   param_distributions={'max_depth': [20, 40, 60, 70, 80, 90,\n",
       "                                                      100, None],\n",
       "                                        'n_estimators': [100, 200, 400, 600,\n",
       "                                                         800, 1000]},\n",
       "                   random_state=42, scoring='neg_mean_squared_error',\n",
       "                   verbose=2)"
      ]
     },
     "execution_count": 51,
     "metadata": {},
     "output_type": "execute_result"
    }
   ],
   "source": [
    "random_forest_random_search.fit(X_train, y_train)"
   ]
  },
  {
   "cell_type": "code",
   "execution_count": 52,
   "id": "125e5736",
   "metadata": {},
   "outputs": [
    {
     "data": {
      "text/plain": [
       "{'n_estimators': 600, 'max_depth': 80}"
      ]
     },
     "execution_count": 52,
     "metadata": {},
     "output_type": "execute_result"
    }
   ],
   "source": [
    "random_forest_random_search.best_params_"
   ]
  },
  {
   "cell_type": "code",
   "execution_count": 21,
   "id": "e099b3cb",
   "metadata": {},
   "outputs": [
    {
     "data": {
      "text/plain": [
       "RandomForestRegressor(max_depth=80, n_estimators=600, n_jobs=-1)"
      ]
     },
     "execution_count": 21,
     "metadata": {},
     "output_type": "execute_result"
    }
   ],
   "source": [
    "model = RandomForestRegressor(n_estimators= 600,max_depth= 80, n_jobs=-1)\n",
    "model.fit(X_train, y_train)"
   ]
  },
  {
   "cell_type": "code",
   "execution_count": 22,
   "id": "aebc78ca",
   "metadata": {},
   "outputs": [],
   "source": [
    "y_pred = model.predict(X_test)"
   ]
  },
  {
   "cell_type": "code",
   "execution_count": 23,
   "id": "3b8e4841",
   "metadata": {},
   "outputs": [],
   "source": [
    "mape = np.round(mean_absolute_percentage_error(y_test, y_pred),4)"
   ]
  },
  {
   "cell_type": "code",
   "execution_count": 24,
   "id": "0dba4737",
   "metadata": {},
   "outputs": [],
   "source": [
    "mse = np.round(mean_squared_error(y_test, y_pred, squared=False),2)"
   ]
  },
  {
   "cell_type": "code",
   "execution_count": 25,
   "id": "80bd7ac2",
   "metadata": {},
   "outputs": [],
   "source": [
    "r2 = np.round(r2_score(y_test, y_pred),4)"
   ]
  },
  {
   "cell_type": "code",
   "execution_count": 31,
   "id": "e3d1a45b",
   "metadata": {},
   "outputs": [
    {
     "name": "stdout",
     "output_type": "stream",
     "text": [
      "Metrics      Random Forest Model\n",
      "---------  ---------------------\n",
      "MAPE                      0.4309\n",
      "RMSE                   4734.55\n",
      "R2                        0.8552\n"
     ]
    }
   ],
   "source": [
    "data = [[\"MAPE\", mape], \n",
    "        [\"RMSE\", mse], \n",
    "        [\"R2\", r2]]\n",
    "col_names = [\"Metrics\",\"Random Forest Model\"]\n",
    "print(tabulate(data, headers=col_names))"
   ]
  },
  {
   "cell_type": "code",
   "execution_count": 62,
   "id": "7fa184fd",
   "metadata": {},
   "outputs": [],
   "source": [
    "params =      {'max_depth': [ 80],\n",
    "               'max_features' : [\"auto\", \"sqrt\", \"log2\"],\n",
    "               \"bootstrap\": [True, False],\n",
    "               'min_samples_leaf': [1, 2, 4],\n",
    "               'min_samples_split': [2, 5, 10],\n",
    "               'n_estimators': [600]}"
   ]
  },
  {
   "cell_type": "code",
   "execution_count": 63,
   "id": "78880813",
   "metadata": {},
   "outputs": [],
   "source": [
    "random_forest_random_search = RandomizedSearchCV(model, params, cv = 2, verbose=2, random_state=42, n_jobs = -1)"
   ]
  },
  {
   "cell_type": "code",
   "execution_count": 64,
   "id": "0ae39699",
   "metadata": {},
   "outputs": [
    {
     "name": "stdout",
     "output_type": "stream",
     "text": [
      "Fitting 2 folds for each of 10 candidates, totalling 20 fits\n"
     ]
    },
    {
     "name": "stderr",
     "output_type": "stream",
     "text": [
      "C:\\Users\\sasid\\anaconda3\\lib\\site-packages\\sklearn\\model_selection\\_search.py:922: UserWarning: One or more of the test scores are non-finite: [0.81118045 0.81734926 0.81818899 0.80481037 0.80217297 0.80628377\n",
      " 0.78631222 0.80339846        nan 0.71403687]\n",
      "  warnings.warn(\n"
     ]
    },
    {
     "data": {
      "text/plain": [
       "RandomizedSearchCV(cv=2,\n",
       "                   estimator=RandomForestRegressor(max_depth=80,\n",
       "                                                   n_estimators=600,\n",
       "                                                   n_jobs=-1),\n",
       "                   n_jobs=-1,\n",
       "                   param_distributions={'bootstrap': [True, False],\n",
       "                                        'max_depth': [80],\n",
       "                                        'max_features': ['auto', 'sqrt',\n",
       "                                                         'log2'],\n",
       "                                        'min_samples_leaf': [1, 2, 4],\n",
       "                                        'min_samples_split': [2, 5, 10],\n",
       "                                        'n_estimators': [600]},\n",
       "                   random_state=42, verbose=2)"
      ]
     },
     "execution_count": 64,
     "metadata": {},
     "output_type": "execute_result"
    }
   ],
   "source": [
    "random_forest_random_search.fit(X_train, y_train)"
   ]
  },
  {
   "cell_type": "code",
   "execution_count": 65,
   "id": "96774df7",
   "metadata": {},
   "outputs": [
    {
     "data": {
      "text/plain": [
       "{'n_estimators': 600,\n",
       " 'min_samples_split': 2,\n",
       " 'min_samples_leaf': 2,\n",
       " 'max_features': 'log2',\n",
       " 'max_depth': 80,\n",
       " 'bootstrap': False}"
      ]
     },
     "execution_count": 65,
     "metadata": {},
     "output_type": "execute_result"
    }
   ],
   "source": [
    "random_forest_random_search.best_params_"
   ]
  },
  {
   "cell_type": "code",
   "execution_count": 74,
   "id": "40b51b9b",
   "metadata": {},
   "outputs": [
    {
     "data": {
      "text/plain": [
       "RandomForestRegressor(bootstrap=False, max_depth=80, max_features='log2',\n",
       "                      min_samples_leaf=2, n_estimators=600, n_jobs=-1)"
      ]
     },
     "execution_count": 74,
     "metadata": {},
     "output_type": "execute_result"
    }
   ],
   "source": [
    "model = RandomForestRegressor(n_estimators= 600,max_depth= 80, min_samples_split = 2, min_samples_leaf = 2, max_features= 'log2',bootstrap = False, n_jobs=-1)\n",
    "model.fit(X_train, y_train)"
   ]
  },
  {
   "cell_type": "code",
   "execution_count": 75,
   "id": "e3f3dcb9",
   "metadata": {},
   "outputs": [],
   "source": [
    "y_pred = model.predict(X_test)"
   ]
  },
  {
   "cell_type": "code",
   "execution_count": 76,
   "id": "6e34211f",
   "metadata": {},
   "outputs": [
    {
     "data": {
      "text/plain": [
       "0.4457512720895175"
      ]
     },
     "execution_count": 76,
     "metadata": {},
     "output_type": "execute_result"
    }
   ],
   "source": [
    "mean_absolute_percentage_error(y_test, y_pred)"
   ]
  },
  {
   "cell_type": "code",
   "execution_count": 77,
   "id": "7c249403",
   "metadata": {},
   "outputs": [
    {
     "data": {
      "text/plain": [
       "4792.408798589904"
      ]
     },
     "execution_count": 77,
     "metadata": {},
     "output_type": "execute_result"
    }
   ],
   "source": [
    "mean_squared_error(y_test, y_pred, squared=False)"
   ]
  },
  {
   "cell_type": "code",
   "execution_count": 78,
   "id": "6159be5b",
   "metadata": {},
   "outputs": [
    {
     "data": {
      "text/plain": [
       "0.8516008799155654"
      ]
     },
     "execution_count": 78,
     "metadata": {},
     "output_type": "execute_result"
    }
   ],
   "source": [
    "r2_score(y_test, y_pred)"
   ]
  },
  {
   "cell_type": "code",
   "execution_count": 66,
   "id": "760cc6d1",
   "metadata": {},
   "outputs": [
    {
     "data": {
      "text/plain": [
       "(249371, 9)"
      ]
     },
     "execution_count": 66,
     "metadata": {},
     "output_type": "execute_result"
    }
   ],
   "source": [
    "X_train.shape"
   ]
  },
  {
   "cell_type": "code",
   "execution_count": 118,
   "id": "c4ca758f",
   "metadata": {},
   "outputs": [],
   "source": [
    "import tensorflow as tf\n",
    "from tensorflow import keras\n",
    "from tensorflow.keras import layers\n",
    "from keras.layers import Activation, Dense\n",
    "from keras import optimizers"
   ]
  },
  {
   "cell_type": "code",
   "execution_count": 119,
   "id": "e608229c",
   "metadata": {},
   "outputs": [],
   "source": [
    "def build_and_compile_model(norm):\n",
    "    \n",
    "    model = keras.Sequential([norm,\n",
    "      layers.Dense(64, activation='relu'),\n",
    "      layers.Dense(64, activation='relu'),\n",
    "      layers.Dense(1)])\n",
    "\n",
    "    model.compile(loss='mean_absolute_error',optimizer=tf.keras.optimizers.Adam(0.001),metrics=tf.keras.metrics.RootMeanSquaredError())\n",
    "    return model\n"
   ]
  },
  {
   "cell_type": "code",
   "execution_count": 120,
   "id": "e625209b",
   "metadata": {},
   "outputs": [],
   "source": [
    "X_train_normalized = layers.Normalization(input_shape=[9,], axis=None)\n",
    "X_train_normalized.adapt(X_train)"
   ]
  },
  {
   "cell_type": "code",
   "execution_count": 121,
   "id": "74be34e0",
   "metadata": {},
   "outputs": [],
   "source": [
    "model = build_and_compile_model(X_train_normalized)"
   ]
  },
  {
   "cell_type": "code",
   "execution_count": 122,
   "id": "fe4802e4",
   "metadata": {},
   "outputs": [
    {
     "name": "stdout",
     "output_type": "stream",
     "text": [
      "Model: \"sequential_7\"\n",
      "_________________________________________________________________\n",
      " Layer (type)                Output Shape              Param #   \n",
      "=================================================================\n",
      " normalization_7 (Normalizat  (None, 9)                3         \n",
      " ion)                                                            \n",
      "                                                                 \n",
      " dense_33 (Dense)            (None, 64)                640       \n",
      "                                                                 \n",
      " dense_34 (Dense)            (None, 64)                4160      \n",
      "                                                                 \n",
      " dense_35 (Dense)            (None, 1)                 65        \n",
      "                                                                 \n",
      "=================================================================\n",
      "Total params: 4,868\n",
      "Trainable params: 4,865\n",
      "Non-trainable params: 3\n",
      "_________________________________________________________________\n"
     ]
    }
   ],
   "source": [
    "model.summary()"
   ]
  },
  {
   "cell_type": "code",
   "execution_count": 123,
   "id": "e4759b04",
   "metadata": {},
   "outputs": [
    {
     "name": "stdout",
     "output_type": "stream",
     "text": [
      "Epoch 1/100\n",
      "6235/6235 [==============================] - 35s 6ms/step - loss: 7464.8809 - root_mean_squared_error: 10762.6641 - val_loss: 6069.3667 - val_root_mean_squared_error: 8402.3594\n",
      "Epoch 2/100\n",
      "6235/6235 [==============================] - 21s 3ms/step - loss: 5999.1416 - root_mean_squared_error: 8295.5508 - val_loss: 5989.4233 - val_root_mean_squared_error: 8303.0176\n",
      "Epoch 3/100\n",
      "6235/6235 [==============================] - 15s 2ms/step - loss: 5952.4243 - root_mean_squared_error: 8243.7021 - val_loss: 5963.8447 - val_root_mean_squared_error: 8254.7080\n",
      "Epoch 4/100\n",
      "6235/6235 [==============================] - 15s 2ms/step - loss: 5929.3979 - root_mean_squared_error: 8223.7871 - val_loss: 5950.4976 - val_root_mean_squared_error: 8253.2305\n",
      "Epoch 5/100\n",
      "6235/6235 [==============================] - 16s 3ms/step - loss: 5913.8447 - root_mean_squared_error: 8212.2656 - val_loss: 5935.7031 - val_root_mean_squared_error: 8228.9199\n",
      "Epoch 6/100\n",
      "6235/6235 [==============================] - 17s 3ms/step - loss: 5900.6553 - root_mean_squared_error: 8201.6279 - val_loss: 5926.4023 - val_root_mean_squared_error: 8231.6094\n",
      "Epoch 7/100\n",
      "6235/6235 [==============================] - 19s 3ms/step - loss: 5889.2710 - root_mean_squared_error: 8191.5649 - val_loss: 5915.9478 - val_root_mean_squared_error: 8227.9814\n",
      "Epoch 8/100\n",
      "6235/6235 [==============================] - 18s 3ms/step - loss: 5878.6460 - root_mean_squared_error: 8181.3936 - val_loss: 5906.4341 - val_root_mean_squared_error: 8221.1182\n",
      "Epoch 9/100\n",
      "6235/6235 [==============================] - 17s 3ms/step - loss: 5870.2300 - root_mean_squared_error: 8171.5410 - val_loss: 5899.5752 - val_root_mean_squared_error: 8204.9541\n",
      "Epoch 10/100\n",
      "6235/6235 [==============================] - 13s 2ms/step - loss: 5861.3721 - root_mean_squared_error: 8162.2471 - val_loss: 5889.0732 - val_root_mean_squared_error: 8206.9248\n",
      "Epoch 11/100\n",
      "6235/6235 [==============================] - 14s 2ms/step - loss: 5853.3364 - root_mean_squared_error: 8151.8101 - val_loss: 5883.3735 - val_root_mean_squared_error: 8218.9912\n",
      "Epoch 12/100\n",
      "6235/6235 [==============================] - 14s 2ms/step - loss: 5845.5410 - root_mean_squared_error: 8148.1157 - val_loss: 5877.8286 - val_root_mean_squared_error: 8199.8574\n",
      "Epoch 13/100\n",
      "6235/6235 [==============================] - 14s 2ms/step - loss: 5837.6362 - root_mean_squared_error: 8136.8120 - val_loss: 5876.7559 - val_root_mean_squared_error: 8174.7202\n",
      "Epoch 14/100\n",
      "6235/6235 [==============================] - 16s 2ms/step - loss: 5831.4414 - root_mean_squared_error: 8131.6587 - val_loss: 5863.5820 - val_root_mean_squared_error: 8181.1836\n",
      "Epoch 15/100\n",
      "6235/6235 [==============================] - 15s 2ms/step - loss: 5820.2461 - root_mean_squared_error: 8120.7803 - val_loss: 5856.0425 - val_root_mean_squared_error: 8184.2920\n",
      "Epoch 16/100\n",
      "6235/6235 [==============================] - 14s 2ms/step - loss: 5809.1875 - root_mean_squared_error: 8109.0493 - val_loss: 5846.4785 - val_root_mean_squared_error: 8168.7354\n",
      "Epoch 17/100\n",
      "6235/6235 [==============================] - 14s 2ms/step - loss: 5799.0474 - root_mean_squared_error: 8099.5000 - val_loss: 5835.4204 - val_root_mean_squared_error: 8144.4546\n",
      "Epoch 18/100\n",
      "6235/6235 [==============================] - 15s 2ms/step - loss: 5786.4409 - root_mean_squared_error: 8086.3843 - val_loss: 5825.1499 - val_root_mean_squared_error: 8170.4771\n",
      "Epoch 19/100\n",
      "6235/6235 [==============================] - 14s 2ms/step - loss: 5770.3286 - root_mean_squared_error: 8071.9429 - val_loss: 5812.6636 - val_root_mean_squared_error: 8129.0908\n",
      "Epoch 20/100\n",
      "6235/6235 [==============================] - 15s 2ms/step - loss: 5756.4771 - root_mean_squared_error: 8058.1470 - val_loss: 5795.3984 - val_root_mean_squared_error: 8125.9717\n",
      "Epoch 21/100\n",
      "6235/6235 [==============================] - 15s 2ms/step - loss: 5741.1172 - root_mean_squared_error: 8043.0566 - val_loss: 5778.2236 - val_root_mean_squared_error: 8098.9438\n",
      "Epoch 22/100\n",
      "6235/6235 [==============================] - 15s 2ms/step - loss: 5724.6509 - root_mean_squared_error: 8025.2095 - val_loss: 5765.1738 - val_root_mean_squared_error: 8098.5190\n",
      "Epoch 23/100\n",
      "6235/6235 [==============================] - 15s 2ms/step - loss: 5707.2939 - root_mean_squared_error: 8007.7358 - val_loss: 5746.9082 - val_root_mean_squared_error: 8084.5732\n",
      "Epoch 24/100\n",
      "6235/6235 [==============================] - 15s 2ms/step - loss: 5688.2700 - root_mean_squared_error: 7987.8735 - val_loss: 5728.5439 - val_root_mean_squared_error: 8062.6431\n",
      "Epoch 25/100\n",
      "6235/6235 [==============================] - 15s 2ms/step - loss: 5666.1021 - root_mean_squared_error: 7964.2412 - val_loss: 5705.0942 - val_root_mean_squared_error: 8018.4043\n",
      "Epoch 26/100\n",
      "6235/6235 [==============================] - 15s 2ms/step - loss: 5642.3101 - root_mean_squared_error: 7942.5889 - val_loss: 5687.0444 - val_root_mean_squared_error: 7997.9595\n",
      "Epoch 27/100\n",
      "6235/6235 [==============================] - 15s 2ms/step - loss: 5618.0596 - root_mean_squared_error: 7914.6309 - val_loss: 5661.9531 - val_root_mean_squared_error: 7970.1357\n",
      "Epoch 28/100\n",
      "6235/6235 [==============================] - 15s 2ms/step - loss: 5589.8706 - root_mean_squared_error: 7884.1333 - val_loss: 5633.0762 - val_root_mean_squared_error: 7960.1191\n",
      "Epoch 29/100\n",
      "6235/6235 [==============================] - 15s 2ms/step - loss: 5558.8320 - root_mean_squared_error: 7851.4404 - val_loss: 5602.7607 - val_root_mean_squared_error: 7933.3213\n",
      "Epoch 30/100\n",
      "6235/6235 [==============================] - 15s 2ms/step - loss: 5527.1265 - root_mean_squared_error: 7818.5459 - val_loss: 5574.4551 - val_root_mean_squared_error: 7905.1885\n",
      "Epoch 31/100\n",
      "6235/6235 [==============================] - 15s 2ms/step - loss: 5496.2036 - root_mean_squared_error: 7786.0718 - val_loss: 5547.6016 - val_root_mean_squared_error: 7876.5332\n",
      "Epoch 32/100\n",
      "6235/6235 [==============================] - 15s 2ms/step - loss: 5468.6167 - root_mean_squared_error: 7761.3110 - val_loss: 5526.6333 - val_root_mean_squared_error: 7852.6865\n",
      "Epoch 33/100\n",
      "6235/6235 [==============================] - 15s 2ms/step - loss: 5445.1260 - root_mean_squared_error: 7737.6162 - val_loss: 5519.2021 - val_root_mean_squared_error: 7800.6016\n",
      "Epoch 34/100\n",
      "6235/6235 [==============================] - 14s 2ms/step - loss: 5425.1445 - root_mean_squared_error: 7722.0742 - val_loss: 5490.3774 - val_root_mean_squared_error: 7790.0483\n",
      "Epoch 35/100\n",
      "6235/6235 [==============================] - 14s 2ms/step - loss: 5408.8247 - root_mean_squared_error: 7708.0562 - val_loss: 5473.9858 - val_root_mean_squared_error: 7823.4463\n",
      "Epoch 36/100\n",
      "6235/6235 [==============================] - 14s 2ms/step - loss: 5394.7070 - root_mean_squared_error: 7697.1660 - val_loss: 5460.8350 - val_root_mean_squared_error: 7790.2485\n",
      "Epoch 37/100\n",
      "6235/6235 [==============================] - 14s 2ms/step - loss: 5383.2690 - root_mean_squared_error: 7685.8779 - val_loss: 5448.8745 - val_root_mean_squared_error: 7790.3047\n",
      "Epoch 38/100\n",
      "6235/6235 [==============================] - 15s 2ms/step - loss: 5371.6904 - root_mean_squared_error: 7674.1895 - val_loss: 5443.8760 - val_root_mean_squared_error: 7750.8364\n",
      "Epoch 39/100\n",
      "6235/6235 [==============================] - 15s 2ms/step - loss: 5360.9097 - root_mean_squared_error: 7666.9951 - val_loss: 5429.2134 - val_root_mean_squared_error: 7775.1187\n",
      "Epoch 40/100\n",
      "6235/6235 [==============================] - 15s 2ms/step - loss: 5350.4033 - root_mean_squared_error: 7657.5591 - val_loss: 5415.7686 - val_root_mean_squared_error: 7761.9233\n",
      "Epoch 41/100\n",
      "6235/6235 [==============================] - 14s 2ms/step - loss: 5340.1123 - root_mean_squared_error: 7645.5400 - val_loss: 5411.8521 - val_root_mean_squared_error: 7729.7749\n",
      "Epoch 42/100\n",
      "6235/6235 [==============================] - 15s 2ms/step - loss: 5330.8750 - root_mean_squared_error: 7637.4692 - val_loss: 5398.2886 - val_root_mean_squared_error: 7718.3960\n",
      "Epoch 43/100\n",
      "6235/6235 [==============================] - 14s 2ms/step - loss: 5321.7466 - root_mean_squared_error: 7627.6309 - val_loss: 5390.6382 - val_root_mean_squared_error: 7757.0938\n",
      "Epoch 44/100\n",
      "6235/6235 [==============================] - 14s 2ms/step - loss: 5311.5415 - root_mean_squared_error: 7618.3223 - val_loss: 5382.0688 - val_root_mean_squared_error: 7715.0322\n",
      "Epoch 45/100\n",
      "6235/6235 [==============================] - 14s 2ms/step - loss: 5302.5073 - root_mean_squared_error: 7610.6265 - val_loss: 5369.2095 - val_root_mean_squared_error: 7718.2065\n",
      "Epoch 46/100\n",
      "6235/6235 [==============================] - 14s 2ms/step - loss: 5291.9551 - root_mean_squared_error: 7595.9536 - val_loss: 5365.7031 - val_root_mean_squared_error: 7748.6030\n",
      "Epoch 47/100\n",
      "6235/6235 [==============================] - 15s 2ms/step - loss: 5283.3691 - root_mean_squared_error: 7590.1279 - val_loss: 5349.6694 - val_root_mean_squared_error: 7706.2310\n",
      "Epoch 48/100\n",
      "6235/6235 [==============================] - 14s 2ms/step - loss: 5272.5435 - root_mean_squared_error: 7575.2168 - val_loss: 5337.1973 - val_root_mean_squared_error: 7690.6973\n",
      "Epoch 49/100\n",
      "6235/6235 [==============================] - 14s 2ms/step - loss: 5261.5659 - root_mean_squared_error: 7564.7930 - val_loss: 5326.8594 - val_root_mean_squared_error: 7679.9575\n",
      "Epoch 50/100\n",
      "6235/6235 [==============================] - 15s 2ms/step - loss: 5251.0513 - root_mean_squared_error: 7554.3574 - val_loss: 5331.1792 - val_root_mean_squared_error: 7718.0752\n",
      "Epoch 51/100\n",
      "6235/6235 [==============================] - 14s 2ms/step - loss: 5237.5029 - root_mean_squared_error: 7537.9937 - val_loss: 5303.7451 - val_root_mean_squared_error: 7639.3296\n",
      "Epoch 52/100\n",
      "6235/6235 [==============================] - 14s 2ms/step - loss: 5223.7705 - root_mean_squared_error: 7521.8481 - val_loss: 5288.3311 - val_root_mean_squared_error: 7623.8555\n",
      "Epoch 53/100\n",
      "6235/6235 [==============================] - 14s 2ms/step - loss: 5208.6479 - root_mean_squared_error: 7505.0088 - val_loss: 5274.9277 - val_root_mean_squared_error: 7623.2354\n",
      "Epoch 54/100\n",
      "6235/6235 [==============================] - 14s 2ms/step - loss: 5192.3120 - root_mean_squared_error: 7489.1504 - val_loss: 5258.2051 - val_root_mean_squared_error: 7579.5732\n",
      "Epoch 55/100\n",
      "6235/6235 [==============================] - 14s 2ms/step - loss: 5176.4077 - root_mean_squared_error: 7468.4355 - val_loss: 5243.3008 - val_root_mean_squared_error: 7578.4521\n",
      "Epoch 56/100\n",
      "6235/6235 [==============================] - 15s 2ms/step - loss: 5159.1978 - root_mean_squared_error: 7448.8809 - val_loss: 5222.2075 - val_root_mean_squared_error: 7536.5220\n",
      "Epoch 57/100\n",
      "6235/6235 [==============================] - 14s 2ms/step - loss: 5143.4263 - root_mean_squared_error: 7432.8296 - val_loss: 5210.0903 - val_root_mean_squared_error: 7562.8735\n",
      "Epoch 58/100\n",
      "6235/6235 [==============================] - 14s 2ms/step - loss: 5125.3789 - root_mean_squared_error: 7414.0615 - val_loss: 5185.5542 - val_root_mean_squared_error: 7509.6753\n",
      "Epoch 59/100\n",
      "6235/6235 [==============================] - 15s 2ms/step - loss: 5108.1670 - root_mean_squared_error: 7397.5742 - val_loss: 5170.8579 - val_root_mean_squared_error: 7517.5498\n",
      "Epoch 60/100\n",
      "6235/6235 [==============================] - 15s 2ms/step - loss: 5091.3696 - root_mean_squared_error: 7381.0547 - val_loss: 5171.8354 - val_root_mean_squared_error: 7467.1689\n",
      "Epoch 61/100\n",
      "6235/6235 [==============================] - 14s 2ms/step - loss: 5074.6592 - root_mean_squared_error: 7362.9487 - val_loss: 5148.1284 - val_root_mean_squared_error: 7451.2524\n",
      "Epoch 62/100\n",
      "6235/6235 [==============================] - 14s 2ms/step - loss: 5057.9512 - root_mean_squared_error: 7345.1890 - val_loss: 5139.5254 - val_root_mean_squared_error: 7498.0264\n",
      "Epoch 63/100\n",
      "6235/6235 [==============================] - 14s 2ms/step - loss: 5042.4116 - root_mean_squared_error: 7330.8467 - val_loss: 5107.9028 - val_root_mean_squared_error: 7440.1484\n",
      "Epoch 64/100\n",
      "6235/6235 [==============================] - 14s 2ms/step - loss: 5027.1646 - root_mean_squared_error: 7314.8511 - val_loss: 5098.9678 - val_root_mean_squared_error: 7388.5957\n",
      "Epoch 65/100\n",
      "6235/6235 [==============================] - 14s 2ms/step - loss: 5013.4243 - root_mean_squared_error: 7304.3306 - val_loss: 5085.8809 - val_root_mean_squared_error: 7400.2710\n",
      "Epoch 66/100\n",
      "6235/6235 [==============================] - 14s 2ms/step - loss: 4999.3730 - root_mean_squared_error: 7290.6118 - val_loss: 5067.1426 - val_root_mean_squared_error: 7404.7251\n",
      "Epoch 67/100\n",
      "6235/6235 [==============================] - 13s 2ms/step - loss: 4986.7539 - root_mean_squared_error: 7281.6123 - val_loss: 5057.7461 - val_root_mean_squared_error: 7385.3623\n",
      "Epoch 68/100\n",
      "6235/6235 [==============================] - 14s 2ms/step - loss: 4976.4473 - root_mean_squared_error: 7273.0425 - val_loss: 5040.6499 - val_root_mean_squared_error: 7366.2334\n",
      "Epoch 69/100\n",
      "6235/6235 [==============================] - 14s 2ms/step - loss: 4966.2529 - root_mean_squared_error: 7261.8511 - val_loss: 5040.8149 - val_root_mean_squared_error: 7371.2959\n",
      "Epoch 70/100\n",
      "6235/6235 [==============================] - 15s 2ms/step - loss: 4957.6094 - root_mean_squared_error: 7255.7925 - val_loss: 5021.8706 - val_root_mean_squared_error: 7362.0693\n",
      "Epoch 71/100\n",
      "6235/6235 [==============================] - 14s 2ms/step - loss: 4948.7812 - root_mean_squared_error: 7248.6504 - val_loss: 5017.6665 - val_root_mean_squared_error: 7336.8638\n",
      "Epoch 72/100\n",
      "6235/6235 [==============================] - 15s 2ms/step - loss: 4941.5200 - root_mean_squared_error: 7244.3105 - val_loss: 5010.6084 - val_root_mean_squared_error: 7365.5244\n",
      "Epoch 73/100\n",
      "6235/6235 [==============================] - 15s 2ms/step - loss: 4934.3560 - root_mean_squared_error: 7237.5581 - val_loss: 5003.4023 - val_root_mean_squared_error: 7354.4004\n",
      "Epoch 74/100\n",
      "6235/6235 [==============================] - 14s 2ms/step - loss: 4927.6055 - root_mean_squared_error: 7231.6943 - val_loss: 4990.9331 - val_root_mean_squared_error: 7330.1646\n",
      "Epoch 75/100\n",
      "6235/6235 [==============================] - 14s 2ms/step - loss: 4920.6821 - root_mean_squared_error: 7227.3540 - val_loss: 4983.5312 - val_root_mean_squared_error: 7325.5107\n",
      "Epoch 76/100\n",
      "6235/6235 [==============================] - 14s 2ms/step - loss: 4914.5908 - root_mean_squared_error: 7219.5356 - val_loss: 4974.9976 - val_root_mean_squared_error: 7319.8320\n",
      "Epoch 77/100\n",
      "6235/6235 [==============================] - 14s 2ms/step - loss: 4908.0801 - root_mean_squared_error: 7213.0562 - val_loss: 4976.7515 - val_root_mean_squared_error: 7336.1045\n",
      "Epoch 78/100\n",
      "6235/6235 [==============================] - 14s 2ms/step - loss: 4903.6904 - root_mean_squared_error: 7213.5542 - val_loss: 4974.0244 - val_root_mean_squared_error: 7343.9507\n",
      "Epoch 79/100\n",
      "6235/6235 [==============================] - 15s 2ms/step - loss: 4898.7915 - root_mean_squared_error: 7206.3701 - val_loss: 4977.6167 - val_root_mean_squared_error: 7368.5771\n",
      "Epoch 80/100\n",
      "6235/6235 [==============================] - 14s 2ms/step - loss: 4893.1606 - root_mean_squared_error: 7203.4092 - val_loss: 4953.2598 - val_root_mean_squared_error: 7308.2510\n",
      "Epoch 81/100\n",
      "6235/6235 [==============================] - 14s 2ms/step - loss: 4887.9072 - root_mean_squared_error: 7199.3159 - val_loss: 4956.3994 - val_root_mean_squared_error: 7327.3374\n",
      "Epoch 82/100\n",
      "6235/6235 [==============================] - 14s 2ms/step - loss: 4884.1152 - root_mean_squared_error: 7196.9160 - val_loss: 4946.6196 - val_root_mean_squared_error: 7291.5928\n",
      "Epoch 83/100\n",
      "6235/6235 [==============================] - 14s 2ms/step - loss: 4880.3794 - root_mean_squared_error: 7196.3716 - val_loss: 4936.8521 - val_root_mean_squared_error: 7283.2720\n",
      "Epoch 84/100\n",
      "6235/6235 [==============================] - 14s 2ms/step - loss: 4876.1592 - root_mean_squared_error: 7189.9155 - val_loss: 4934.2563 - val_root_mean_squared_error: 7291.4600\n",
      "Epoch 85/100\n",
      "6235/6235 [==============================] - 14s 2ms/step - loss: 4872.1987 - root_mean_squared_error: 7187.8506 - val_loss: 4931.8652 - val_root_mean_squared_error: 7280.5220\n",
      "Epoch 86/100\n",
      "6235/6235 [==============================] - 14s 2ms/step - loss: 4868.1919 - root_mean_squared_error: 7187.4023 - val_loss: 4923.6831 - val_root_mean_squared_error: 7282.3711\n",
      "Epoch 87/100\n"
     ]
    },
    {
     "name": "stdout",
     "output_type": "stream",
     "text": [
      "6235/6235 [==============================] - 15s 2ms/step - loss: 4865.1396 - root_mean_squared_error: 7182.5288 - val_loss: 4936.5005 - val_root_mean_squared_error: 7256.5098\n",
      "Epoch 88/100\n",
      "6235/6235 [==============================] - 14s 2ms/step - loss: 4861.5415 - root_mean_squared_error: 7180.0610 - val_loss: 4933.6055 - val_root_mean_squared_error: 7320.5220\n",
      "Epoch 89/100\n",
      "6235/6235 [==============================] - 15s 2ms/step - loss: 4858.1851 - root_mean_squared_error: 7178.7671 - val_loss: 4935.1045 - val_root_mean_squared_error: 7326.8354\n",
      "Epoch 90/100\n",
      "6235/6235 [==============================] - 14s 2ms/step - loss: 4854.5864 - root_mean_squared_error: 7174.3145 - val_loss: 4917.1592 - val_root_mean_squared_error: 7282.6074\n",
      "Epoch 91/100\n",
      "6235/6235 [==============================] - 14s 2ms/step - loss: 4851.9800 - root_mean_squared_error: 7174.9189 - val_loss: 4919.8906 - val_root_mean_squared_error: 7266.4688\n",
      "Epoch 92/100\n",
      "6235/6235 [==============================] - 14s 2ms/step - loss: 4848.7466 - root_mean_squared_error: 7171.5469 - val_loss: 4917.6973 - val_root_mean_squared_error: 7296.4165\n",
      "Epoch 93/100\n",
      "6235/6235 [==============================] - 14s 2ms/step - loss: 4846.3184 - root_mean_squared_error: 7166.9644 - val_loss: 4905.2832 - val_root_mean_squared_error: 7267.5767\n",
      "Epoch 94/100\n",
      "6235/6235 [==============================] - 14s 2ms/step - loss: 4842.7783 - root_mean_squared_error: 7165.6465 - val_loss: 4905.5874 - val_root_mean_squared_error: 7299.5464\n",
      "Epoch 95/100\n",
      "6235/6235 [==============================] - 14s 2ms/step - loss: 4840.3677 - root_mean_squared_error: 7164.8301 - val_loss: 4896.9502 - val_root_mean_squared_error: 7255.7930\n",
      "Epoch 96/100\n",
      "6235/6235 [==============================] - 13s 2ms/step - loss: 4837.5850 - root_mean_squared_error: 7161.6904 - val_loss: 4897.8755 - val_root_mean_squared_error: 7267.4106\n",
      "Epoch 97/100\n",
      "6235/6235 [==============================] - 14s 2ms/step - loss: 4836.2451 - root_mean_squared_error: 7159.0356 - val_loss: 4896.5176 - val_root_mean_squared_error: 7263.4478\n",
      "Epoch 98/100\n",
      "6235/6235 [==============================] - 15s 2ms/step - loss: 4832.6367 - root_mean_squared_error: 7157.5107 - val_loss: 4898.9683 - val_root_mean_squared_error: 7257.2974\n",
      "Epoch 99/100\n",
      "6235/6235 [==============================] - 14s 2ms/step - loss: 4830.0996 - root_mean_squared_error: 7153.9570 - val_loss: 4900.2720 - val_root_mean_squared_error: 7292.9150\n",
      "Epoch 100/100\n",
      "6235/6235 [==============================] - 14s 2ms/step - loss: 4827.9946 - root_mean_squared_error: 7153.4224 - val_loss: 4892.1929 - val_root_mean_squared_error: 7237.8267\n"
     ]
    }
   ],
   "source": [
    "DNN_model = model.fit(\n",
    "    X_train,\n",
    "    y_train,\n",
    "    validation_split=0.2,\n",
    "    verbose=1, epochs=100)"
   ]
  },
  {
   "cell_type": "code",
   "execution_count": 124,
   "id": "44454ec1",
   "metadata": {},
   "outputs": [
    {
     "name": "stdout",
     "output_type": "stream",
     "text": [
      "3340/3340 [==============================] - 6s 2ms/step - loss: 4881.1465 - root_mean_squared_error: 7179.4316\n"
     ]
    }
   ],
   "source": [
    "results = model.evaluate(X_test, y_test)"
   ]
  },
  {
   "cell_type": "code",
   "execution_count": 125,
   "id": "709ccc6c",
   "metadata": {},
   "outputs": [
    {
     "name": "stdout",
     "output_type": "stream",
     "text": [
      "loss:  4881.146484375\n",
      "accuracy:  7179.431640625\n"
     ]
    }
   ],
   "source": [
    "print('loss: ', results[0])\n",
    "print('accuracy: ', results[1])   "
   ]
  },
  {
   "cell_type": "code",
   "execution_count": 126,
   "id": "28a18c4f",
   "metadata": {},
   "outputs": [],
   "source": [
    "X_test_normalized = layers.Normalization(input_shape=[9,], axis=None)\n",
    "X_test_normalized.adapt(X_test)"
   ]
  },
  {
   "cell_type": "code",
   "execution_count": 127,
   "id": "bb4cda23",
   "metadata": {},
   "outputs": [],
   "source": [
    "y_pred = model.predict(X_test)"
   ]
  },
  {
   "cell_type": "code",
   "execution_count": 132,
   "id": "21ef2392",
   "metadata": {},
   "outputs": [
    {
     "data": {
      "text/plain": [
       "0.6562324165104982"
      ]
     },
     "execution_count": 132,
     "metadata": {},
     "output_type": "execute_result"
    }
   ],
   "source": [
    "mean_absolute_percentage_error(y_test, y_pred)"
   ]
  },
  {
   "cell_type": "code",
   "execution_count": null,
   "id": "5f0d1ab0",
   "metadata": {},
   "outputs": [],
   "source": []
  }
 ],
 "metadata": {
  "kernelspec": {
   "display_name": "Python 3",
   "language": "python",
   "name": "python3"
  },
  "language_info": {
   "codemirror_mode": {
    "name": "ipython",
    "version": 3
   },
   "file_extension": ".py",
   "mimetype": "text/x-python",
   "name": "python",
   "nbconvert_exporter": "python",
   "pygments_lexer": "ipython3",
   "version": "3.8.8"
  }
 },
 "nbformat": 4,
 "nbformat_minor": 5
}
